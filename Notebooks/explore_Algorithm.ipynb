{
 "cells": [
  {
   "attachments": {},
   "cell_type": "markdown",
   "metadata": {},
   "source": [
    "# Explore LSMC-Algorithm\n",
    "\n",
    "In this Notebook we examine every step of the LSMC-Algorithm. It is used to play around with the algorithm itself and serves as a playground to create mock ups for the final code.\n",
    "\n"
   ]
  },
  {
   "cell_type": "code",
   "execution_count": 4,
   "metadata": {},
   "outputs": [],
   "source": [
    "# Import Black Scholes Model\n",
    "from LeastSquaresMonteCarlo import LSMC\n",
    "# import necessary libraries\n",
    "import math\n",
    "import random\n",
    "import numpy as np\n",
    "import matplotlib.pyplot as plt\n",
    "from numpy.polynomial import Polynomial\n",
    "\n",
    "\n",
    "# Estimate Delta by drifting the random path\n",
    "def estimate_delta(Model, dS):\n",
    "\n",
    "    price = Model.Price\n",
    "\n",
    "    # Shift the path\n",
    "    Model.randomWalk *= 1 + dS\n",
    "\n",
    "    # pricing\n",
    "    Model.pricing()\n",
    "\n",
    "    Delta = (Model.Price - price) / (Model.spot_price * dS)\n",
    "\n",
    "    print(\"\")\n",
    "    print(\"-----------------------------\")\n",
    "    print(f\"Price of {Model.type} after {dS} shift: {Model.Price}\")\n",
    "    print(f\"Stdandard deviation after {dS} shift: {Model.std}\")\n",
    "    print(f\"Root Mean Sqaure Relative Error after {dS} shift: {Model.rmsre}\")\n",
    "    print(f\"Estimated Delta of {Model.type}: {Delta}\")\n",
    "    print(\"-----------------------------\")\n",
    "    print(\"\")"
   ]
  },
  {
   "cell_type": "code",
   "execution_count": 122,
   "metadata": {},
   "outputs": [],
   "source": [
    "\n",
    "# Setup LSMC Model\n",
    "\n",
    "type = \"call\"\n",
    "spot = 5000\n",
    "strike = 5000\n",
    "time = 50 # time intervall\n",
    "interest = 0.03 # percent\n",
    "dividend = 0 # percent\n",
    "volatility = 0.05 # percent\n",
    "period = 50\n",
    "simulations = 10000\n",
    "\n",
    "Model = LSMC(\n",
    "    type, spot, strike, time, interest, dividend, volatility, period, simulations\n",
    ")"
   ]
  },
  {
   "cell_type": "code",
   "execution_count": 123,
   "metadata": {},
   "outputs": [
    {
     "name": "stdout",
     "output_type": "stream",
     "text": [
      "4962.295383296528\n"
     ]
    }
   ],
   "source": [
    "# Generate Price paths\n",
    "Model.random_path()\n",
    "\n",
    "# Payoff for each period of each paths\n",
    "if Model.type == \"p\":\n",
    "    Model.payoff = np.maximum(0, Model.strike_price - Model.randomWalk)\n",
    "else:\n",
    "    Model.payoff = np.maximum(0, Model.randomWalk - Model.strike_price) # For Technologyoption the strike price might rever to todays value und self.randWalk to possible NPVs with invest times in the future\n",
    "\n",
    "\n",
    "Y = Model.randomWalk[:, -1]\n",
    "\n",
    "for i in range(Model.period - 1, -1, -1): # before it was self.period - 2 why?\n",
    "\n",
    "    # Calculate discount\n",
    "    Y *= np.exp(Model.discount) # i think the payoff hast to be disounted\n",
    "    # Find valid path\n",
    "    hold = np.where(Model.payoff[:, i] > 0)[0]\n",
    "\n",
    "    if len(hold) > Model.degree:\n",
    "        #Y[hold] are the random price path from random walk where the the option is in the money\n",
    "\n",
    "        # Apply Least square method\n",
    "        #regression = np.polyfit(Model.randomWalk[hold, i], Y[hold], Model.degree)\n",
    "        regression = Polynomial.fit(Model.randomWalk[hold, i], Y[hold], Model.degree)\n",
    "        #CV = np.polyval(regression, Model.randomWalk[hold, i])\n",
    "        CV = regression(Model.randomWalk[hold, i])\n",
    "\n",
    "        # Whether to exercise now\n",
    "        Y[hold] = np.where(\n",
    "            Model.payoff[hold, i] > CV, Model.payoff[hold, i], Y[hold]\n",
    "        )\n",
    "\n",
    "        # mxing cashflow matrix with price of option\n",
    "        # \n",
    "    \n",
    "\n",
    "# Calculate mean and variance of the stimulation\n",
    "Model.Price = np.mean(Y)\n",
    "Model.std = np.std(Y) / np.sqrt(Model.path)\n",
    "Model.rmsre = np.sqrt(np.mean(((Y - Model.Price) / Model.Price) ** 2))\n",
    "\n",
    "print(Model.Price)"
   ]
  },
  {
   "cell_type": "code",
   "execution_count": 196,
   "metadata": {},
   "outputs": [
    {
     "name": "stdout",
     "output_type": "stream",
     "text": [
      "188540.97183076487\n",
      "188540.97183076487\n"
     ]
    }
   ],
   "source": [
    "# Generate Price paths\n",
    "Model.random_path()\n",
    "\n",
    "# Payoff for each period of each paths\n",
    "if Model.type == \"p\":\n",
    "    Model.payoff = np.maximum(0, Model.strike_price - Model.randomWalk)\n",
    "else:\n",
    "    Model.payoff = np.maximum(0, Model.randomWalk - Model.strike_price) # For Technologyoption the strike price might rever to todays value und self.randWalk to possible NPVs with invest times in the future\n",
    "\n",
    "Y = Model.payoff[:,-1] \n",
    "\n",
    "cash_flow_matrix = np.zeros_like(Model.payoff)\n",
    "\n",
    "for i in range(Model.period - 2, -1, -1): # before it was self.period - 2 why? -> numpy index is excluding thus i=49 is the 50fth value, for regression we start with the 49fht vlaue that corresponds to index i=48 (or i=N_periods-2)\n",
    "    \n",
    "    # Find valid path where the are positive cashflow thus the option is in the money\n",
    "    hold_mask = Model.payoff[:, i] > 0\n",
    "\n",
    "    # Update current cashflows by discounted values from previous time step\n",
    "    Y = Y * np.exp(Model.discount)\n",
    "    \n",
    "    if np.count_nonzero(hold_mask) > Model.degree: # keep sure that there is sufficent amount of point for the regression\n",
    "        #Y[hold] are the random price path from random walk where the the option is in the money\n",
    "    \n",
    "        # Apply Least square method\n",
    "        regression = Polynomial.fit(Model.randomWalk[hold_mask, i], Y[hold_mask], Model.degree)\n",
    "        CV = regression(Model.randomWalk[hold_mask, i])\n",
    "\n",
    "        # Whether to exercise now\n",
    "        Y[hold_mask] = np.where(\n",
    "            Model.payoff[hold_mask, i] > CV, Model.payoff[hold_mask, i], Y[hold_mask]\n",
    "        )\n",
    "\n",
    "        #Update cash flow matrix\n",
    "        cash_flow_matrix[hold_mask,i] = Y[hold_mask]\n",
    "\n",
    "#Discount cash flows of each price path to time zero\n",
    "num_paths, num_time_steps = cash_flow_matrix.shape\n",
    "discount_factors = np.array([1/(1 + Model.interest_rate) ** (t) for t in range(num_time_steps)])\n",
    "discounted_cash_flows = cash_flow_matrix * discount_factors\n",
    "\n",
    "# Sum the discounted cash flows along the time dimension to get the value at time zero\n",
    "cash_flow_matrix[:,0] =  np.sum(discounted_cash_flows, axis=1)\n",
    "\n",
    "\n",
    "\n",
    "\n",
    "# Calculate mean and variance of the stimulation\n",
    "Model.Price = np.mean(cash_flow_matrix[:,0])\n",
    "Model.std = np.std(cash_flow_matrix[:,0]) / np.sqrt(Model.path)\n",
    "Model.rmsre = np.sqrt(np.mean(((cash_flow_matrix[:,0] - Model.Price) / Model.Price) ** 2))\n",
    "\n"
   ]
  },
  {
   "cell_type": "code",
   "execution_count": 162,
   "metadata": {},
   "outputs": [
    {
     "name": "stdout",
     "output_type": "stream",
     "text": [
      "3758.2684760348657\n",
      "3983.6351483751\n"
     ]
    }
   ],
   "source": [
    "\n"
   ]
  },
  {
   "cell_type": "code",
   "execution_count": 7,
   "metadata": {},
   "outputs": [
    {
     "data": {
      "text/plain": [
       "(array([    9,     9,     9, ..., 99990, 99990, 99990], dtype=int64),\n",
       " array([45, 46, 47, ..., 46, 47, 49], dtype=int64))"
      ]
     },
     "execution_count": 7,
     "metadata": {},
     "output_type": "execute_result"
    }
   ],
   "source": [
    "Model.payoff.nonzero()"
   ]
  },
  {
   "cell_type": "code",
   "execution_count": 8,
   "metadata": {},
   "outputs": [
    {
     "data": {
      "text/plain": [
       "array([0., 0., 0., 0., 0., 0., 0., 0., 0., 0., 0., 0., 0., 0., 0., 0., 0.,\n",
       "       0., 0., 0., 0., 0., 0., 0., 0., 0., 0., 0., 0., 0., 0., 0., 0., 0.,\n",
       "       0., 0., 0., 0., 0., 0., 0., 0., 0., 0., 0., 0., 0., 0., 0., 0., 0.])"
      ]
     },
     "execution_count": 8,
     "metadata": {},
     "output_type": "execute_result"
    }
   ],
   "source": [
    "Model.payoff[7,:]"
   ]
  },
  {
   "cell_type": "code",
   "execution_count": 82,
   "metadata": {},
   "outputs": [
    {
     "data": {
      "text/plain": [
       "array([[3, 0, 0],\n",
       "       [0, 4, 0],\n",
       "       [5, 6, 0]])"
      ]
     },
     "execution_count": 82,
     "metadata": {},
     "output_type": "execute_result"
    }
   ],
   "source": [
    "x = np.array([[3, 0, 0], [0, 4, 0], [5, 6, 0]])\n",
    "x"
   ]
  },
  {
   "cell_type": "code",
   "execution_count": 83,
   "metadata": {},
   "outputs": [
    {
     "data": {
      "text/plain": [
       "(array([0, 1, 2, 2], dtype=int64), array([0, 1, 0, 1], dtype=int64))"
      ]
     },
     "execution_count": 83,
     "metadata": {},
     "output_type": "execute_result"
    }
   ],
   "source": [
    "x.nonzero()"
   ]
  },
  {
   "cell_type": "code",
   "execution_count": 101,
   "metadata": {},
   "outputs": [
    {
     "data": {
      "text/plain": [
       "array([1, 2], dtype=int64)"
      ]
     },
     "execution_count": 101,
     "metadata": {},
     "output_type": "execute_result"
    }
   ],
   "source": [
    "hold = np.where(x[:,1] > 0)[0]\n",
    "hold"
   ]
  },
  {
   "cell_type": "code",
   "execution_count": 106,
   "metadata": {},
   "outputs": [
    {
     "data": {
      "text/plain": [
       "array([False,  True,  True])"
      ]
     },
     "execution_count": 106,
     "metadata": {},
     "output_type": "execute_result"
    }
   ],
   "source": [
    "hold = np.where(x > 0)[0]\n",
    "hold_mask = x[:,1] > 0\n",
    "hold_mask"
   ]
  },
  {
   "cell_type": "code",
   "execution_count": 107,
   "metadata": {},
   "outputs": [
    {
     "data": {
      "text/plain": [
       "4"
      ]
     },
     "execution_count": 107,
     "metadata": {},
     "output_type": "execute_result"
    }
   ],
   "source": [
    "len(hold)"
   ]
  },
  {
   "cell_type": "code",
   "execution_count": 108,
   "metadata": {},
   "outputs": [
    {
     "data": {
      "text/plain": [
       "array([0, 9, 9, 9])"
      ]
     },
     "execution_count": 108,
     "metadata": {},
     "output_type": "execute_result"
    }
   ],
   "source": [
    "x[hold, 1]"
   ]
  },
  {
   "cell_type": "code",
   "execution_count": 109,
   "metadata": {},
   "outputs": [
    {
     "data": {
      "text/plain": [
       "array([9, 9])"
      ]
     },
     "execution_count": 109,
     "metadata": {},
     "output_type": "execute_result"
    }
   ],
   "source": [
    "x[hold_mask, 1]"
   ]
  },
  {
   "cell_type": "code",
   "execution_count": 110,
   "metadata": {},
   "outputs": [
    {
     "data": {
      "text/plain": [
       "array([[3, 0, 0],\n",
       "       [0, 9, 0],\n",
       "       [5, 9, 0]])"
      ]
     },
     "execution_count": 110,
     "metadata": {},
     "output_type": "execute_result"
    }
   ],
   "source": [
    "x[hold_mask, 1] = 9\n",
    "x"
   ]
  },
  {
   "cell_type": "code",
   "execution_count": 111,
   "metadata": {},
   "outputs": [
    {
     "data": {
      "text/plain": [
       "2"
      ]
     },
     "execution_count": 111,
     "metadata": {},
     "output_type": "execute_result"
    }
   ],
   "source": [
    "np.count_nonzero(hold_mask)"
   ]
  },
  {
   "cell_type": "code",
   "execution_count": 112,
   "metadata": {},
   "outputs": [
    {
     "data": {
      "text/plain": [
       "array([False,  True,  True])"
      ]
     },
     "execution_count": 112,
     "metadata": {},
     "output_type": "execute_result"
    }
   ],
   "source": [
    "hold_mask"
   ]
  },
  {
   "cell_type": "code",
   "execution_count": 158,
   "metadata": {},
   "outputs": [
    {
     "data": {
      "text/plain": [
       "0.1146579894812496"
      ]
     },
     "execution_count": 158,
     "metadata": {},
     "output_type": "execute_result"
    }
   ],
   "source": [
    "option = ((0.17+0.34+0.18+0.22)*(1/1.06)+0.07*(1.06**(-3)))/8\n",
    "option"
   ]
  },
  {
   "cell_type": "code",
   "execution_count": 154,
   "metadata": {},
   "outputs": [
    {
     "data": {
      "text/plain": [
       "0.9722997508009967"
      ]
     },
     "execution_count": 154,
     "metadata": {},
     "output_type": "execute_result"
    }
   ],
   "source": [
    "option = (0.17+0.34+0.18+0.22)+0.07*(1.06**(-2))\n",
    "option"
   ]
  },
  {
   "cell_type": "code",
   "execution_count": 163,
   "metadata": {},
   "outputs": [
    {
     "data": {
      "text/plain": [
       "array([[    0.        ,     0.        ,     0.        , ...,\n",
       "        14238.64053811,     0.        ,     0.        ],\n",
       "       [    0.        ,  2136.93670773,  2202.01611925, ...,\n",
       "         8752.79745618,     0.        ,     0.        ],\n",
       "       [    0.        ,  6429.79401278,  6625.61039286, ...,\n",
       "        26336.14953372,     0.        ,     0.        ],\n",
       "       ...,\n",
       "       [    0.        , 10153.1219756 , 10462.33057354, ...,\n",
       "        41586.73482417,     0.        ,     0.        ],\n",
       "       [    0.        ,  5672.74284562,  5845.50358522, ...,\n",
       "        23235.30171441,     0.        ,     0.        ],\n",
       "       [    0.        ,  6825.04890062,  7032.90258409, ...,\n",
       "        27955.09592753,     0.        ,     0.        ]])"
      ]
     },
     "execution_count": 163,
     "metadata": {},
     "output_type": "execute_result"
    }
   ],
   "source": [
    "cash_flow_matrix"
   ]
  },
  {
   "cell_type": "code",
   "execution_count": 171,
   "metadata": {},
   "outputs": [
    {
     "name": "stdout",
     "output_type": "stream",
     "text": [
      "[138.32199546 172.76751971 285.71428571]\n"
     ]
    }
   ],
   "source": [
    "import numpy as np\n",
    "\n",
    "def discount_cash_flows(cash_flow_matrix, discount_rate, time_step_zero=0):\n",
    "    num_paths, num_time_steps = cash_flow_matrix.shape\n",
    "\n",
    "    # Calculate discount factors for each time step\n",
    "    discount_factors = np.array([1 / (1 + discount_rate) ** (t - time_step_zero) for t in range(num_time_steps)])\n",
    "\n",
    "    # Discount cash flows for each price path\n",
    "    discounted_cash_flows = cash_flow_matrix * discount_factors\n",
    "\n",
    "    # Sum the discounted cash flows along the time dimension to get the value at time zero\n",
    "    cash_flow_at_time_zero = np.sum(discounted_cash_flows, axis=1)\n",
    "\n",
    "    return cash_flow_at_time_zero\n",
    "\n",
    "# Example usage\n",
    "# Assuming you have a cash flow matrix with 3 price paths and 5 time steps\n",
    "cash_flow_matrix = np.array([[0, 50, 100, 0, 0],\n",
    "                             [0, 0, 0, 200, 0],\n",
    "                             [0, 300, 0, 0, 0]])\n",
    "\n",
    "discount_rate = 0.05\n",
    "time_step_zero = 0\n",
    "\n",
    "cash_flow_at_time_zero = discount_cash_flows(cash_flow_matrix, discount_rate, time_step_zero)\n",
    "print(cash_flow_at_time_zero)\n"
   ]
  },
  {
   "cell_type": "code",
   "execution_count": 170,
   "metadata": {},
   "outputs": [
    {
     "data": {
      "text/plain": [
       "285.7142857142857"
      ]
     },
     "execution_count": 170,
     "metadata": {},
     "output_type": "execute_result"
    }
   ],
   "source": [
    "300 * (1 / (1 + discount_rate) ** (1))"
   ]
  },
  {
   "cell_type": "code",
   "execution_count": 195,
   "metadata": {},
   "outputs": [
    {
     "name": "stdout",
     "output_type": "stream",
     "text": [
      "[[0 0 1 0 1]\n",
      " [0 0 1 1 1]\n",
      " [0 1 0 1 1]]\n"
     ]
    },
    {
     "data": {
      "image/png": "[encoded data removed]",
      "text/plain": [
       "<Figure size 640x480 with 1 Axes>"
      ]
     },
     "metadata": {},
     "output_type": "display_data"
    }
   ],
   "source": [
    "import matplotlib.pyplot as plt\n",
    "import matplotlib.ticker as ticker\n",
    "\n",
    "def create_cashflow_indicator_matrix(cash_flow_matrix):\n",
    "    # Create a new matrix with the same shape as the cash flow matrix, filled with zeros\n",
    "    indicator_matrix = np.zeros_like(cash_flow_matrix)\n",
    "\n",
    "    # Set the elements to 1 where the cash flow matrix has non-zero values\n",
    "    indicator_matrix[cash_flow_matrix != 0] = 1\n",
    "\n",
    "    return indicator_matrix\n",
    "\n",
    "# Example usage\n",
    "# Assuming you have a cash flow matrix with 3 price paths and 5 time steps\n",
    "cash_flow_matrix = np.array([[0, 0, 100, 0, 567],\n",
    "                             [0, 0, 100, 8, 567],\n",
    "                             [0, 300, 0, 300, 567]])\n",
    "\n",
    "cashflow_indicator_matrix = create_cashflow_indicator_matrix(cash_flow_matrix)\n",
    "print(cashflow_indicator_matrix)\n",
    "\n",
    "\n",
    "# Calculate the number of cash flows realized at each time step\n",
    "cashflows_per_time_step = np.sum(cashflow_indicator_matrix, axis=0)\n",
    "probability_of_invest = cashflows_per_time_step/cash_flow_matrix.shape[0]\n",
    "\n",
    "# Generate time step labels (assuming you have 5 time steps)\n",
    "time_step_labels = np.arange(1, probability_of_invest.shape[0])\n",
    "\n",
    "# Plot the bar chart\n",
    "plt.bar(time_step_labels, probability_of_invest[1:])\n",
    "plt.xlabel('Time Step')\n",
    "plt.ylabel('Probability of investment')\n",
    "plt.title('Relative Number of Investments in Each Time Step')\n",
    "\n",
    "# Set the x-axis ticks to show only integer values\n",
    "ax = plt.gca()\n",
    "ax.xaxis.set_major_locator(ticker.MaxNLocator(integer=True))\n",
    "\n",
    "plt.show()"
   ]
  }
 ],
 "metadata": {
  "kernelspec": {
   "display_name": "roapy_env",
   "language": "python",
   "name": "python3"
  },
  "language_info": {
   "codemirror_mode": {
    "name": "ipython",
    "version": 3
   },
   "file_extension": ".py",
   "mimetype": "text/x-python",
   "name": "python",
   "nbconvert_exporter": "python",
   "pygments_lexer": "ipython3",
   "version": "3.9.17"
  },
  "orig_nbformat": 4
 },
 "nbformat": 4,
 "nbformat_minor": 2
}
